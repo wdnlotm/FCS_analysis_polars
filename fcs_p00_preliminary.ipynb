{
 "cells": [
  {
   "cell_type": "markdown",
   "id": "03661b10-1819-4826-a92c-6f32101d896a",
   "metadata": {},
   "source": [
    "---\n",
    "title: \"CyTOF: read fcs files and look around\"\n",
    "subtitle: \"gating on UMAP\"\n",
    "author: MKim\n",
    "format:\n",
    "  html:\n",
    "    toc: true\n",
    "    toc-depth: 3\n",
    "    toc-title: Contents\n",
    "    toc-location: left\n",
    "    toc-float: true\n",
    "    toc-collapsed: true\n",
    "    html-math-method: katex\n",
    "    embed-resources: true\n",
    "    page-layout: full\n",
    "    fig-dpi: 120\n",
    "execute:\n",
    "  echo: false\n",
    "---"
   ]
  },
  {
   "cell_type": "code",
   "execution_count": 10,
   "id": "68aa4b16-1ca2-4abc-941b-5073fef7add8",
   "metadata": {},
   "outputs": [
    {
     "name": "stdout",
     "output_type": "stream",
     "text": [
      "/sfs/gpfs/tardis/project/iprime_storage/myles_kim/FCS_analysis_polars_clone\n",
      "There are 6 fcs files.\n",
      "First 7: [Sample(v3.0, T1_HBO1.fcs, 71 channels, 160250 events), Sample(v3.0, T1_HBO8.fcs, 71 channels, 152505 events), Sample(v3.0, T2_HBO1.fcs, 71 channels, 129389 events), Sample(v3.0, T2_HBO8.fcs, 71 channels, 117407 events), Sample(v3.0, T3_HBO1.fcs, 71 channels, 67781 events), Sample(v3.0, T3_HBO8.fcs, 71 channels, 59778 events)]\n",
      "(687110, 72) 0.68711\n",
      "\n",
      "Check out new_columns.csv file. Add a column named \"use\" to indicate which one to use (1) and which one not (0).\n",
      "Save the file as columns_2_use.csv\n",
      "\n",
      "\n"
     ]
    },
    {
     "name": "stdin",
     "output_type": "stream",
     "text": [
      "Type anything here when columns_2_use_csv is ready. ready\n"
     ]
    },
    {
     "name": "stdout",
     "output_type": "stream",
     "text": [
      "\n",
      "\n",
      "fcs data only with relavant markers saved. fcs_df_trimmed.csv.gz\n"
     ]
    }
   ],
   "source": [
    "%run fcs_z00_trimming_fcsdata.py --dataloc ./data_cytof/"
   ]
  }
 ],
 "metadata": {
  "kernelspec": {
   "display_name": "flowkit-ve",
   "language": "python",
   "name": "flowkit_ve"
  },
  "language_info": {
   "codemirror_mode": {
    "name": "ipython",
    "version": 3
   },
   "file_extension": ".py",
   "mimetype": "text/x-python",
   "name": "python",
   "nbconvert_exporter": "python",
   "pygments_lexer": "ipython3",
   "version": "3.11.4"
  }
 },
 "nbformat": 4,
 "nbformat_minor": 5
}
